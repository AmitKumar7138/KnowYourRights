{
 "cells": [
  {
   "cell_type": "code",
   "execution_count": 2,
   "metadata": {},
   "outputs": [],
   "source": [
    "## Langchian componet Imports\n",
    "from langchain_community.vectorstores.cassandra import Cassandra\n",
    "from langchain.indexes.vectorstore import VectorStoreIndexWrapper\n",
    "from langchain_openai import OpenAI\n",
    "from langchain_openai import OpenAIEmbeddings"
   ]
  },
  {
   "cell_type": "code",
   "execution_count": 13,
   "metadata": {},
   "outputs": [],
   "source": [
    "from langchain.text_splitter import CharacterTextSplitter"
   ]
  },
  {
   "cell_type": "code",
   "execution_count": 3,
   "metadata": {},
   "outputs": [
    {
     "name": "stderr",
     "output_type": "stream",
     "text": [
      "/home/amitkumar/projects/GenAI/pdf_query_langchain/venv/lib/python3.11/site-packages/tqdm/auto.py:21: TqdmWarning: IProgress not found. Please update jupyter and ipywidgets. See https://ipywidgets.readthedocs.io/en/stable/user_install.html\n",
      "  from .autonotebook import tqdm as notebook_tqdm\n"
     ]
    }
   ],
   "source": [
    "## Support for dataset retrival with Huggin face\n",
    "from datasets import load_dataset\n",
    "\n",
    "## With Cassio the engibne powering tje AstraDB integration in Langcahin\n",
    "import cassio"
   ]
  },
  {
   "cell_type": "code",
   "execution_count": 4,
   "metadata": {},
   "outputs": [],
   "source": [
    "from PyPDF2 import PdfReader"
   ]
  },
  {
   "cell_type": "code",
   "execution_count": 7,
   "metadata": {},
   "outputs": [],
   "source": [
    "from typing_extensions import Concatenate"
   ]
  },
  {
   "cell_type": "markdown",
   "metadata": {},
   "source": [
    "## API Keys and Tokens"
   ]
  },
  {
   "cell_type": "code",
   "execution_count": 5,
   "metadata": {},
   "outputs": [],
   "source": [
    "ASTRA_DB_APPLICATION_TOKEN =\"\"\n",
    "ASTRA_DB_ID=\"\"\n",
    "\n",
    "OPENAI_API_KEY=\"\""
   ]
  },
  {
   "cell_type": "code",
   "execution_count": 6,
   "metadata": {},
   "outputs": [],
   "source": [
    "## Convert the pdf into a readable format\n",
    "pdfreader = PdfReader(\"COI...pdf\")"
   ]
  },
  {
   "cell_type": "code",
   "execution_count": 8,
   "metadata": {},
   "outputs": [],
   "source": [
    "## read text from pdf\n",
    "raw_text = \"\"\n",
    "for i,page in enumerate(pdfreader.pages):\n",
    "    content = page.extract_text()\n",
    "    if content:\n",
    "        raw_text += content\n",
    "        "
   ]
  },
  {
   "cell_type": "markdown",
   "metadata": {},
   "source": [
    "## Intialize the connection to database"
   ]
  },
  {
   "cell_type": "code",
   "execution_count": 10,
   "metadata": {},
   "outputs": [],
   "source": [
    "## Intialize connection with Astradb\n",
    "cassio.init(token=ASTRA_DB_APPLICATION_TOKEN, database_id=ASTRA_DB_ID)"
   ]
  },
  {
   "cell_type": "markdown",
   "metadata": {},
   "source": [
    "## Create langchain embeddings and LLM objects"
   ]
  },
  {
   "cell_type": "code",
   "execution_count": 11,
   "metadata": {},
   "outputs": [],
   "source": [
    "llm = OpenAI(openai_api_key = OPENAI_API_KEY)\n",
    "embedding = OpenAIEmbeddings(openai_api_key = OPENAI_API_KEY)"
   ]
  },
  {
   "cell_type": "markdown",
   "metadata": {},
   "source": [
    "## Creating Langchain vector store backed by AstraDB "
   ]
  },
  {
   "cell_type": "code",
   "execution_count": 16,
   "metadata": {},
   "outputs": [],
   "source": [
    "astra_vector_store= Cassandra(\n",
    "    embedding=embedding,\n",
    "    table_name=\"consti_qa\",\n",
    "    session=None,\n",
    "    keyspace=None,\n",
    ")"
   ]
  },
  {
   "cell_type": "markdown",
   "metadata": {},
   "source": [
    "## Dividing the entire data into smaller chunks for and text embedding while inserting."
   ]
  },
  {
   "cell_type": "code",
   "execution_count": 14,
   "metadata": {},
   "outputs": [],
   "source": [
    "## split the text using character text Split such that it shold not increase token size.\n",
    "text_splitter = CharacterTextSplitter(\n",
    "    separator= \"\\n\",\n",
    "    chunk_size = 800,\n",
    "    chunk_overlap = 200,\n",
    "    length_function = len,\n",
    ")\n",
    "\n",
    "texts = text_splitter.split_text(raw_text)"
   ]
  },
  {
   "cell_type": "code",
   "execution_count": 15,
   "metadata": {},
   "outputs": [
    {
     "data": {
      "text/plain": [
       "['THE CONSTITUTION OF INDIA  \\n [As on 26th November , 2021 ] \\n \\n \\n  2 \\n   \\nPREFACE  \\n \\nThis is the fifth   pocket size edition of the Constitution of India in the \\ndiglot form. In this edition, the text of the Constitution of India has been \\nbrought up -to-date by incorporating therein all the amendments up to the \\nConstitution (One Hundred and Fifth Amendment) A ct, 2021. The foot notes \\nbelow the text indicate the Constitution Amendment Acts by which such \\namendments have been made.  \\nThe Constitution (One Hundredth Amendments ) Act, 2015 containing \\ndetails of acquired and transferred territories between the Governme nts of \\nIndia and Bangladesh has been provided in APPENDIX I.  \\nThe Constitution (Application to Jammu and Kashmir) Order, 2019 and',\n",
       " 'India and Bangladesh has been provided in APPENDIX I.  \\nThe Constitution (Application to Jammu and Kashmir) Order, 2019 and \\nthe declaration under article 370(3) of the Constitution have been provided \\nrespectively in Appendix II and Appendix III for reference.  \\n \\n \\nNew Delhi;                                               Dr. Reeta Vasishta,  \\n                                 Secretary to the Government of India.  \\n  3 \\n  \\n \\nTHE CONSTITUTION OF INDIA    \\n____________                                                                     \\n                             \\nCONTENTS  \\n__________  \\n \\n                                                                                           \\nPREAMBLE  \\nPART I  \\nTHE UNION AND ITS TERRITORY  \\nARTICLES  \\n  1. Name and territory of the Union.',\n",
       " 'PREAMBLE  \\nPART I  \\nTHE UNION AND ITS TERRITORY  \\nARTICLES  \\n  1. Name and territory of the Union.  \\n  2. Admission or establishment of new States.  \\n[2A.         Sikkim to be associated with the Union. —Omitted. ] \\n  3. Formation of new States and alteration of areas, boundaries or \\nnames of existing  St ates. \\n  4. Laws made under articles 2 and 3 to provide for the amendment of \\nthe First and the Fourth Schedules and supplemental, incidental \\nand consequential matters.  \\nPART II  \\nCITIZENSHIP  \\n  5. Citizenship at the commencement of the Constitution.  \\n6. Rights of citizenship of certain persons who have migrated to \\nIndia from Pakistan.',\n",
       " 'PART II  \\nCITIZENSHIP  \\n  5. Citizenship at the commencement of the Constitution.  \\n6. Rights of citizenship of certain persons who have migrated to \\nIndia from Pakistan.  \\n  7. Rights of citizenship of certain migrants to Pakistan.  \\n8. Rights of citizenship of certain persons of Indian origin residing    \\noutside India.  4 \\n 9. Persons voluntarily acquiring  citizenship of a foreign State not to \\nbe citizens.  \\n10. Continuance of the rights of citizenship.  \\n11. Parliament to regulate the right of citizenship by law.  \\nPART III  \\nFUNDAMENTAL RIGHTS  \\nGeneral  \\n12. Definition.  \\n13. Laws inconsistent with or in derogation of the fundamental \\nrights.  \\n Right to Equality  \\n14.    Equality before law.  \\n15. Prohibition of discrimination on grounds of religion, race, caste,',\n",
       " '13. Laws inconsistent with or in derogation of the fundamental \\nrights.  \\n Right to Equality  \\n14.    Equality before law.  \\n15. Prohibition of discrimination on grounds of religion, race, caste, \\nsex or place of birth.  \\n16. Equality of opportunity in matters of public employment.  \\n17. Abolition of Unto uchability.  \\n18. Abolition of titles.  \\n Right to Freedom  \\n19. Protection of certain rights regarding freedom of speech, etc.  \\n20. Protection in respect of conviction for offences.  \\n21. Protection of life and personal liberty.  \\n21A.  Right to education.  \\n22. Protection against arrest and detention in certain cases.  \\n Right against Exploitation  \\n \\n23. Prohibition of traffic in human beings and forced labour.  \\n24. Prohibition of employment of children in factories, etc.',\n",
       " 'Right against Exploitation  \\n \\n23. Prohibition of traffic in human beings and forced labour.  \\n24. Prohibition of employment of children in factories, etc.  \\n Right to  Freedom of Religion  \\n25. Freedom of conscience and free profession, practice and \\npropagation of religion.  \\n26. Freedom to manage religious affairs.  \\n27. Freedom as to payment of taxes for promotion of any particular \\nreligion.  \\n28. Freedom as to attendance at religious instruction or religious \\nworship in certain educational institutions.  5 \\n  Cultural and Educational Rights  \\n29. Protection of interests of minorities.  \\n30. Right of minorities to establish and administer educational \\ninstitutions.  \\n[31. Compulsory acquisition of property . —Omitted.]  \\n Saving of Certain Laws',\n",
       " '30. Right of minorities to establish and administer educational \\ninstitutions.  \\n[31. Compulsory acquisition of property . —Omitted.]  \\n Saving of Certain Laws  \\n31A.  Saving of Laws providing for acquisition of estates, etc.  \\n31B.  Validation of certain Acts and Regulations.  \\n31C.  Saving of laws giving effect to certain directive principles.  \\n[31D.  Saving of laws in respect of a nti-national activities. —Omitted.]  \\n Right to Constitutional Remedies  \\n 32. Remedies for enforcement of rights conferred by this Part.  \\n[32A.  Constitutional validity of State laws not to be considered in \\nproceedings under article 32. —Omitted.]  \\n 33. Power  of Parliament to modify the rights conferred by this Part \\nin their application to Forces, etc.',\n",
       " 'proceedings under article 32. —Omitted.]  \\n 33. Power  of Parliament to modify the rights conferred by this Part \\nin their application to Forces, etc.  \\n 34. Restriction on rights conferred by this Part while martial law is \\nin force in any area.  \\n 35. Legislation to give effect to the provisions of this Part.  \\n PART IV  \\nDIRECTIVE PRINCIPLES OF STATE POLICY  \\n  36. Definition.  \\n  37. Application of the principles contained in this Part.  \\n38. State to secure a social order for the promotion of welfare of the \\npeople.  \\n  39. Certain principles of policy to be followed  by the State.  \\n39A.  Equal justice and free legal aid.  6 \\n   40. Organisation of village panchayats.  \\n  41. \\n Right to work, to education and to public assistance in certain \\ncases.',\n",
       " '39A.  Equal justice and free legal aid.  6 \\n   40. Organisation of village panchayats.  \\n  41. \\n Right to work, to education and to public assistance in certain \\ncases.  \\n  42. Provision for just and humane conditions of work and maternity \\nrelief.  \\n  43. Living wage, etc., for workers.  \\n43A.  Participation of workers in management of Industries.  \\n43B.  Promotion of co -operative societies.  \\n  44. Uniform civil code for the citizens.  \\n  45. Provision for early childhood care and education to children \\nbelow the age of six years.  \\n  46. Promotion of educational and economic interests of Scheduled \\nCastes, Scheduled Tribes and other weaker sections.  \\n  47. Duty of the State to raise the level of nutrition and the standard \\nof living and to improve public health.',\n",
       " 'Castes, Scheduled Tribes and other weaker sections.  \\n  47. Duty of the State to raise the level of nutrition and the standard \\nof living and to improve public health.  \\n  48. Organisation of agriculture and animal husbandry.  \\n48A.  Protection and improvement of environment and safeguarding of \\nforests and wild life.  \\n  49. Protection of monuments and places and objects of national \\nimportance.  \\n  50. Separation of judiciary from executive.  \\n  51. Promotion of international peace and security.  \\n PART IVA  \\nFUNDAMENTAL DUTIES  \\n51A.  Fundamental duties.  \\n \\n \\n \\n \\n PART V  \\nTHE UNION  \\nCHAPTER  I.\\uf0beTHE EXECUTIVE  \\nThe President and Vice -President  \\n52. The President of India.  \\n53. Executive power of the Union.  \\n54. Election of President.  7 \\n 55. Manner of election of President.',\n",
       " 'CHAPTER  I.\\uf0beTHE EXECUTIVE  \\nThe President and Vice -President  \\n52. The President of India.  \\n53. Executive power of the Union.  \\n54. Election of President.  7 \\n 55. Manner of election of President.  \\n56. Term of office of President.  \\n57. Eligibility for re -election.  \\n58. Qualifications for election as President.  \\n59. Conditions of President’s office.  \\n60. Oath or affirmation by the President.  \\n61. Procedure for impeachment of the President.  \\n62. Time of holding election to fill vacancy in the office of President \\nand the term of office of person elected to fill casual vacancy.  \\n63. The Vice -President of India.  \\n64. The Vice -President to be ex officio  Chairman of the Council of \\nStates.  \\n65. The Vice -President to act as President or to discharge his',\n",
       " '63. The Vice -President of India.  \\n64. The Vice -President to be ex officio  Chairman of the Council of \\nStates.  \\n65. The Vice -President to act as President or to discharge his \\nfunctions during casual vacancies in the office, or during the \\nabsence, of President.  \\n66. Election of Vice -President.  \\n67. Term of office of Vice -President.  \\n68. Time of holding election to fill vacancy in the office of Vice -President \\nand the term of office of person elected to fill casual vacancy.  \\n69. Oath or affirmation by the Vice -President.  \\n70. Discharge of President’s functions in other contingencies.  \\n71. Matters relating to, or connected with, the election of a President \\nor Vice -President.  \\n72. Power of President to grant pardons, etc., and to suspend, remit',\n",
       " '71. Matters relating to, or connected with, the election of a President \\nor Vice -President.  \\n72. Power of President to grant pardons, etc., and to suspend, remit \\nor commute sentences in certain cases.  \\n73. Extent of executive power of the Union.  \\n Council of Ministers  \\n74. Council of Ministers  to aid and advise President . \\n75. Other provisions as to Ministers.  \\n The Attorney -General for India  \\n76. Attorney -General for India.  8 \\n  Conduct of Government Business  \\n77. Conduct of business of the Government of India.  \\n78. Duties of Prime Minister as respects the furnishing of \\ninformation to the President, etc.  \\n CHAPTER  II. \\uf0bePARLIAMENT  \\nGeneral  \\n79. Constitution of Parliament.  \\n80. Composition of the Council of States.  \\n81. Composition of the House of the People.',\n",
       " 'information to the President, etc.  \\n CHAPTER  II. \\uf0bePARLIAMENT  \\nGeneral  \\n79. Constitution of Parliament.  \\n80. Composition of the Council of States.  \\n81. Composition of the House of the People.  \\n82. Readjustment after each census.  \\n83. Duration of Houses of Parliament.  \\n84. Qualification for membership of Parliament.  \\n85. Sessions of Parliament, prorogation and dissolution.  \\n86. Right of President to address and send messages to Houses.  \\n87. Special address by the President.  \\n88. Rights of Ministers and Attorney -General as respects Houses.  \\n  \\nOfficers of Parliament  \\n89. The Chairman and Deputy Chairman of the Council of States.  \\n90. Vacation and resignation of, and removal from, the office of \\nDeputy Chairman.',\n",
       " 'Officers of Parliament  \\n89. The Chairman and Deputy Chairman of the Council of States.  \\n90. Vacation and resignation of, and removal from, the office of \\nDeputy Chairman.  \\n91. Power of the Deputy Chairman or other person to perform the \\nduties of the office of, or to act as, Chairman.  \\n92. The Chairman or the Deputy Chairman not to preside while a \\nresolution for his removal from office is under consideration.  \\n93. The Speaker and Deputy Speaker of t he House of the People.  \\n94. Vacation and resignation of, and removal from, the offices of \\nSpeaker and Deputy Speaker.  \\n95. Power of the Deputy Speaker or other person to perform the \\nduties of the office of, or to act as, Speaker.  \\n 9 \\n 96. The Speaker or the Deputy Speaker not to preside while a',\n",
       " '95. Power of the Deputy Speaker or other person to perform the \\nduties of the office of, or to act as, Speaker.  \\n 9 \\n 96. The Speaker or the Deputy Speaker not to preside while a \\nresolution for his removal from office is under consideration.  \\n97. Salaries and allowances of the Chairman and Deputy Chairman \\nand the Speaker and Deputy Speaker.  \\n98. Secretariat of Parliament.  \\n  \\nConduct of Business  \\n 99. Oath or affirmation by members.  \\n100. Voting in Houses, power of Houses to act notwithstanding \\nvacancies and quorum.  \\n  \\nDisqualifications of Members  \\n101. Vacation of seats.  \\n102. Disqualifications for membership.  \\n103. Decision on questions as to disqualifications of members.  \\n104. Penalty for sitting and voting before making oath or affirmation',\n",
       " '102. Disqualifications for membership.  \\n103. Decision on questions as to disqualifications of members.  \\n104. Penalty for sitting and voting before making oath or affirmation \\nunder article 99 or when not qualified or when disqualified.  \\n  \\nPowers, Privileges and Immunities of Parliament and its \\nMembers  \\n105. Powers, privileges, etc., of the Houses of Parliament and of the \\nmembers and committees thereof.  \\n106. Salaries and allowances of members.  \\n Legislative Procedure  \\n107. Provisions as to introduction and passing of Bills.  \\n108. Joint sitting of both Houses in certain cases.  \\n109. Special procedure in respect of Money Bills.  \\n110. Definition of “Money Bills”.  \\n111. Assent to Bills.  \\n Procedure in Financial Matters  \\n112. Annual financial statement.',\n",
       " '109. Special procedure in respect of Money Bills.  \\n110. Definition of “Money Bills”.  \\n111. Assent to Bills.  \\n Procedure in Financial Matters  \\n112. Annual financial statement.  \\n113. Procedure in Parliament with respect to estimates.  \\n114. Appropriation Bills.  10 \\n  \\n115. Supplementary, additional or excess grants.  \\n116. Votes on account, votes of credit and exceptional grants.  \\n117. Special provisions as to financial Bills.  \\n Procedure Generally  \\n118. Rules of procedure.  \\n119. Regulation by law of procedure in Parliament in relation to \\nfinancial business.  \\n120. Language to be used in Parliament.  \\n121. Restriction on discussion in Parliament.  \\n122. Courts not to inquire into proceedings of Parliament.  \\n CHAPTER III. \\uf0beLEGISLATIVE  POWERS OF THE \\nPRESIDENT',\n",
       " '121. Restriction on discussion in Parliament.  \\n122. Courts not to inquire into proceedings of Parliament.  \\n CHAPTER III. \\uf0beLEGISLATIVE  POWERS OF THE \\nPRESIDENT  \\n123. Power of President to promulgate Ordinances during recess of  \\nParliament.  \\n CHAPTER IV. \\uf0be THE UNION JUDICIARY  \\n 124. Establishment and constitution of the  Supreme Court.  \\n124A.  National Judicial Appointments Commission.  \\n124B.  Functions of Commission.  \\n124C.  Power of Parliament to make law.  \\n 125. Salaries, etc., of Judges.  \\n 126. Appointment of acting Chief Justice.  \\n 127. Appointment of  ad hoc  Judges.  \\n 128. Attendance of retired Judges at sittings of the Supreme Court.  \\n 129. Supreme Court to be a court of record.  \\n 130. Seat of Supreme Court.  \\n 131. Original jurisdiction of the Supreme Court.',\n",
       " '128. Attendance of retired Judges at sittings of the Supreme Court.  \\n 129. Supreme Court to be a court of record.  \\n 130. Seat of Supreme Court.  \\n 131. Original jurisdiction of the Supreme Court.  \\n [131A.  Exclusive jurisdiction of the Supreme Court in regard to questions \\nas to constitutional validity of Central laws. \\uf0beOmitted .] \\n 132. Appellate jurisdiction of the Supreme Court in appeals from \\nHigh Courts in certain cases.  \\n 133. Appellate jurisdiction of the Supreme Court in appeals from \\nHigh Courts in regard to civil matters.  11 \\n  134. Appellate jurisdiction of the Supreme Court in regard to criminal \\nmatters.  \\n134A.  Certificate for appeal to the Supreme Court.  \\n 135. Jurisdiction and powers of the Federal Court under existing law \\nto be exercisable by the Supreme Court.',\n",
       " 'matters.  \\n134A.  Certificate for appeal to the Supreme Court.  \\n 135. Jurisdiction and powers of the Federal Court under existing law \\nto be exercisable by the Supreme Court.  \\n 136. Special leave to appeal by the Supreme Court.  \\n 137. Review of judgments or orders by the Supreme Court.  \\n 138. Enlargement of the jurisdiction of the Supreme Court.  \\n 139. Conferment on the Supreme Court of powers to issue certain \\nwrits.  \\n139A.  Transfer of certain cases.  \\n 140. Ancillary powers of the Supreme Court.  \\n 141. Law declared by Supreme Court to be binding on all courts.  \\n 142. Enforcement of decrees and orders of the Supreme Court and \\norders as to discovery, etc.  \\n 143. Power of the President to consult the Supreme Court.',\n",
       " '142. Enforcement of decrees and orders of the Supreme Court and \\norders as to discovery, etc.  \\n 143. Power of the President to consult the Supreme Court.  \\n 144. Civil and judicial authorities to act in aid of the Supreme    \\nCourt.  \\n[144A.  Special provisions as to disposal of questions relating to \\nconstitutional validity of laws. \\uf0beOmitted .] \\n 145. Rules of Court, etc.  \\n 146. Officers and servants and the expenses of the Supreme Court.  \\n 147. Interpretation.  \\n CHAPTER V. \\uf0beCOMPTROLLER AND AUDITOR -\\nGENERAL OF INDIA  \\n 148. Comptroller and Auditor -General of India.  \\n 149. Duties and powers of the Comptroller and Auditor -General.  \\n 150. Form of accounts of the Union and of the States.  \\n 151. Audit reports.  \\n PART VI  \\nTHE STATES  \\nCHAPTER I. \\uf0be GENERAL  12 \\n  152. Definition.',\n",
       " '150. Form of accounts of the Union and of the States.  \\n 151. Audit reports.  \\n PART VI  \\nTHE STATES  \\nCHAPTER I. \\uf0be GENERAL  12 \\n  152. Definition.  \\n  \\nCHAPTER II. \\uf0be THE EXECUTIVE  \\nThe Governor  \\n 153. Governors of States.  \\n 154. Executive power of State.  \\n 155. Appointment of Governor.  \\n 156. Term of office of Governor.  \\n 157. Qualifications for appointment as Governor.  \\n 158. Conditions of Governor’s office.  \\n 159. Oath or affirmation by the Governor.  \\n 160. Discharge of the functions of the Governor in certain \\ncontingencies.  \\n 161. Power of Governor to grant pardons, etc., and  to suspend, remit \\nor commute sentences in certain cases.  \\n 162. Extent of executive power of the State.  \\n Council of Ministers  \\n 163. Council of Ministers to aid and advise Governor.',\n",
       " 'or commute sentences in certain cases.  \\n 162. Extent of executive power of the State.  \\n Council of Ministers  \\n 163. Council of Ministers to aid and advise Governor.   \\n 164. Other provisions as to Ministers.  \\n The Advocate -General for the  State  \\n 165. Advocate -General for the State.  \\n Conduct of Government Business  \\n 166. Conduct of business of the Government of a State.  \\n 167. Duties of Chief Minister as respects the furnishing of \\ninformation to Governor, etc.  \\n CHAPTER III. \\uf0beTHE STATE LEGISLATURE  \\nGeneral  \\n168. Constitution of Legislatures in States.  \\n169. Abolition or creation of Legislative Councils in States.  13 \\n 170. Composition of the Legislative Assemblies.  \\n \\n171. Composition of the Legislative Councils.  \\n172. Duration of State Legislatures.',\n",
       " '170. Composition of the Legislative Assemblies.  \\n \\n171. Composition of the Legislative Councils.  \\n172. Duration of State Legislatures.  \\n173. Qualification for membership of the State Legislature.  \\n174. Sessions of the State Legislature, prorogation and dissolution.  \\n175. Right of Governor to address and send messages to the House or \\nHouses.  \\n176. Special address by the Governor.  \\n177. Rights of Ministers and Advocate -General as respects the \\nHouses.  \\n Officers of the State Legislature  \\n178. The Speaker and Deputy Speaker of the Legislative Assembly.  \\n179. Vacation and resignation of, and removal from, the offices of \\nSpeaker  and Deputy Speaker.  \\n180. Power of the Deputy Speaker or other person to perform the \\nduties of the office of, or to act as, Speaker.',\n",
       " 'Speaker  and Deputy Speaker.  \\n180. Power of the Deputy Speaker or other person to perform the \\nduties of the office of, or to act as, Speaker.  \\n181. The Speaker or the Deputy Speaker not to preside while a \\nresolution for his removal from office is under consideration.  \\n182. The Chairman and Deputy Chairman of the Legislative Council.  \\n183. Vacation and resignation of, and removal from, the offices of \\nChairman and Deputy Chairman.  \\n184. Power of the Deputy Chairman or other person to perform the \\nduties of the office of, or to act as, Chairman.  \\n185. The Chairman or the Deputy Chairman not to preside while a \\nresolution for his removal from office is under consideration.  \\n186. Salaries and allowances of the Speaker and Deputy Speaker and \\nthe Chairman and Depu ty Chairman.',\n",
       " 'resolution for his removal from office is under consideration.  \\n186. Salaries and allowances of the Speaker and Deputy Speaker and \\nthe Chairman and Depu ty Chairman.  \\n187. Secretariat of State Legislature.  \\n Conduct of Business  \\n188. Oath or affirmation by members.  \\n189. Voting in Houses, power of Houses to act notwithstanding \\nvacancies and quorum.  \\n Disqualifications of Members  14 \\n 190. Vacation of seats.  \\n191. Disqualifications for membership.  \\n192. Decision on questions as to disqualifications of members.  \\n193. Penalty for sitting and voting before making oath or affirmation \\nunder article 188 or when not qualified or when disqualified.  \\n Powers, privileges  and immunities of State Legislatures and \\ntheir Members',\n",
       " 'under article 188 or when not qualified or when disqualified.  \\n Powers, privileges  and immunities of State Legislatures and \\ntheir Members  \\n194. Powers, privileges, etc., of the Houses of Legislatures and of the \\nmembers and committees thereof.  \\n195. Salaries and allowances of members.  \\n Legislative Procedure  \\n196. Provisions as to introduction and passing of Bills.  \\n197. Restriction on powers of Legislative Council as to Bills other \\nthan Money Bills.  \\n198. Special procedure in respect of Money Bills.  \\n199. Definition of “Money Bills”.  \\n200. Assent to Bills.  \\n201. Bills reserved for consideration.  \\n Procedure in Financial Matters  \\n202. Annual financial statement.  \\n203. Procedure in Legislature with respect to estimates.  \\n204. Appropriation Bills.',\n",
       " '201. Bills reserved for consideration.  \\n Procedure in Financial Matters  \\n202. Annual financial statement.  \\n203. Procedure in Legislature with respect to estimates.  \\n204. Appropriation Bills.  \\n205. Supplementary, additional or excess grants.  \\n206. Votes on account, votes of credit  and exceptional grants.  \\n207. Special provisions as to financial Bills.  \\n Procedure Generally  \\n208. Rules of procedure.  \\n209. Regulation by law of procedure in the Legislature of the State in 15 \\n relation to financial business.  \\n 210. Language to be used in the Legislature.  \\n 211. Restriction on discussion in the Legislature.  \\n 212. Courts not to inquire into proceedings of the Legislature.  \\n CHAPTER IV. \\uf0beLEGISLATIVE  POWER OF THE \\nGOVERNOR',\n",
       " '211. Restriction on discussion in the Legislature.  \\n 212. Courts not to inquire into proceedings of the Legislature.  \\n CHAPTER IV. \\uf0beLEGISLATIVE  POWER OF THE \\nGOVERNOR  \\n 213. Power of Governor to promulgate Ordinances during recess of \\nLegislature . \\n CHAPTER V. \\uf0beTHE  HIGH COURTS IN THE \\nSTATES  \\n 214. High Courts for States.  \\n 215. High Courts to be courts of record.  \\n 216. Constitution of High Courts.  \\n 217. Appointment and conditions of the office of a Judge of a High \\nCourt.  \\n 218. Application of certain provisions relating to Supreme Court to \\nHigh Courts.  \\n 219. Oath or affirmation by Judges of High Courts.  \\n 220. Restriction on practice after being a permanent Judge.  \\n 221. Salaries, etc., of Judges.  \\n 222. Transfer of a Judge from  one High Court to another.',\n",
       " '220. Restriction on practice after being a permanent Judge.  \\n 221. Salaries, etc., of Judges.  \\n 222. Transfer of a Judge from  one High Court to another.  \\n 223. Appointment of acting Chief Justice.  \\n 224. Appointment of additional and acting Judges.  \\n224A.  Appointment of retired Judges at sittings of High Courts.  \\n225. Jurisdiction of existing High Courts.  \\n226. Power of High Courts to issue certain writs.  \\n[226A.  Constitutional validity of Central laws not to be considered in \\nproceedings under article 226.\\uf0beOmitted. ] \\n227. Power of superintendence over all courts by the High Court.  \\n228. Transfer of certain cases to High Court.  16 \\n [228A.  Special provisions as to disposal of questions relating to \\nconstitutional validity of State laws. \\uf0beOmitted. ]',\n",
       " '228. Transfer of certain cases to High Court.  16 \\n [228A.  Special provisions as to disposal of questions relating to \\nconstitutional validity of State laws. \\uf0beOmitted. ] \\n229. Officers and servants and the expenses of High Courts.  \\n230. Extension of jurisdiction of High Courts to Union territories.  \\n231. Establishment of a common High Court for two or more States.  \\n[232. Articles 230, 231 and 232 substituted by articles 230 and 231].  \\n CHAPTER VI. \\uf0beSUBORDINATE COURTS  \\n233. Appointment of district judges.  \\n233A.  Validation of appointments of, and judgments, etc., delivered by, \\ncertain district judges.  \\n234. Recruitment of persons other than district judges to the judicial \\nservice.  \\n235. Control over subordinate courts.  \\n236. Interpretation.',\n",
       " 'certain district judges.  \\n234. Recruitment of persons other than district judges to the judicial \\nservice.  \\n235. Control over subordinate courts.  \\n236. Interpretation.  \\n237. Application of the provisions of this Chapter to certain class or \\nclasses of magistrates.  \\n [PART VII. —Omitted]  \\nTHE STATES IN PART B OF THE FIRST SCHEDULE  \\n  [238.  Omitted.]  \\n PART VIII  \\nTHE UNION TERRITORIES  \\n239. Administration of Union territories.  \\n239A.  Creation of local Legislatures or Council of Ministers or both for \\ncertain Union territories.  \\n239AA .  Special provisions with respect to Delhi.  \\n239AB.  Provision in case of failure of constitutional machinery.  \\n239B.  Power of administrator to promulgate Ordinances during recess \\nof Legislature.',\n",
       " '239AB.  Provision in case of failure of constitutional machinery.  \\n239B.  Power of administrator to promulgate Ordinances during recess \\nof Legislature.  \\n240. Power of President to make regulations for certain Union \\nterritories.  \\n241. High Courts for Union territories.  \\n[242. Coorg.\\uf0beOmitted. ] \\n  17 \\n PART  IX \\nTHE PANCHAYATS  \\n243. Definitions.  \\n243A.  Gram Sabha.  \\n243B.  Constitution of Panchayats.  \\n243C.  Composition of Panchayats.  \\n243D.  Reservation of seats.  \\n243E.  Duration of Panchayats, etc.  \\n243F.  Disqualifications for membership.  \\n243G.  Powers, authority and responsibilities of Panchayats.  \\n243H.  Powers to impose taxes by, and Funds of, the Panchayats.  \\n243-I. Constitution of Finance Commission to review financial \\nposition.',\n",
       " '243H.  Powers to impose taxes by, and Funds of, the Panchayats.  \\n243-I. Constitution of Finance Commission to review financial \\nposition.  \\n243J.  Audit of accounts of Panchayats.  \\n243K.  Elections to the Panchayats.  \\n243L.  Application to Union  territories.  \\n243M.  Part not to apply to certain areas.  \\n243N.  Continuance of existing  laws and Panchayats.  \\n   243-O. Bar to interference by courts in electoral matters.  \\n PART  IXA \\nTHE MUNICIPALITIES  \\n243P.  Definitions.  \\n243Q.  Constitution of Municipalities.  \\n243R.  Composition of Municipalities.  \\n243S.  Constitution and composition of Wards  Committees, etc.  \\n243T.  Reservation of seats.  \\n243U.  Duration of Municipalities, etc.  \\n243V.  Disqualifications for membership.  18',\n",
       " '243S.  Constitution and composition of Wards  Committees, etc.  \\n243T.  Reservation of seats.  \\n243U.  Duration of Municipalities, etc.  \\n243V.  Disqualifications for membership.  18 \\n 243W.  Powers, authority and responsibilities of Municipalities, etc.  \\n243X.  Power to impose taxes by, and Funds of, the Municipalities.  \\n243Y.  Finance Commission.  \\n243Z.  Audit of accounts of Municipalities.  \\n   243ZA.  Elections to the Municipalities.  \\n243ZB.  Application to Union territories.  \\n243ZC.  Part not to apply to certain areas.  \\n243ZD.  Committee for district planning.  \\n243ZE.  Committee for Metropolitan planning.  \\n243ZF.  Continuance of existing laws and Municipalities.  \\n243ZG.  Bar to interference by courts in electoral matters.  \\nPART  IXB \\nTHE CO -OPERATIVE SOCIETIES',\n",
       " '243ZF.  Continuance of existing laws and Municipalities.  \\n243ZG.  Bar to interference by courts in electoral matters.  \\nPART  IXB \\nTHE CO -OPERATIVE SOCIETIES  \\n 243ZH.  Definitions.  \\n243Z -I. Incorporation of  co-operative societies.  \\n243ZJ.  Number and term of members of board and its office bearers.  \\n243ZK.  Election of members of board.  \\n243ZL.  Supersession and suspension of board and interim management.  \\n243ZM.  Audit of accounts of co -operative societies.  \\n243ZN.  Convening of general body meetings.  \\n243Z -O. Right of a member to get information.  \\n243ZP.  Returns.  \\n243ZQ.  Offences and penalties.  \\n243ZR.  Application to multi -State co -operative societies.  \\n243ZS.  Application to Union territories.  \\n243ZT.  Continuance of existing laws.  \\n  PART X',\n",
       " '243ZQ.  Offences and penalties.  \\n243ZR.  Application to multi -State co -operative societies.  \\n243ZS.  Application to Union territories.  \\n243ZT.  Continuance of existing laws.  \\n  PART X  \\nTHE SCHEDULED AND TRIBAL AREAS  19 \\n 244. Administration of Scheduled Areas and Tribal Areas.  \\n244A.  Formation of an autonomous State comprising certain tribal \\nareas in Assam and creation of  local Legislature or Council of \\nMinisters or both therefor.  \\n  \\nPART XI  \\nRELATIONS BETWEEN THE UNION AND THE \\nSTATES  \\nCHAPTER I. \\uf0beLEGISLATIVE  RELATIONS  \\nDistribution of Legislative Powers  \\n245. Extent of laws made by Parliament and by the Legislatures of \\nStates.  \\n246. Subject -matter of laws made by Parliament and by the \\nLegislatures of States.',\n",
       " 'Distribution of Legislative Powers  \\n245. Extent of laws made by Parliament and by the Legislatures of \\nStates.  \\n246. Subject -matter of laws made by Parliament and by the \\nLegislatures of States.  \\n246A.  Special provision with respect to goods and services tax.  \\n247. Power of Parliament to provide for the establishment of certain \\nadditional courts.  \\n248. Residuary powers of legislation.  \\n249. Power of Parliament to legislate with respect to a matter in the \\nState List in the national interest.  \\n250. Power of Parliament to legislate with respect to any matter in the \\nState List if a Proclamation of Emergency is in operation.  \\n251. Inconsistency between laws made by Parliament under articles \\n249 and 250 and laws made by the Legislatures of States.',\n",
       " 'State List if a Proclamation of Emergency is in operation.  \\n251. Inconsistency between laws made by Parliament under articles \\n249 and 250 and laws made by the Legislatures of States.  \\n252. Power of Parliament to legislate for two or more States by \\nconsent and adoption of such legislation by any other  State.  \\n253. Legislation for giving effect to international agreements.  \\n254. Inconsistency between laws made by Parliament and laws made \\nby the Legislatures of States.  \\n255. Requirements as to recommendations and previous sanctions to \\nbe regarded as matters of procedure only.  \\n CHAPTER II. \\uf0be ADMINISTRATIVE RELATIONS  \\nGeneral  \\n256. Obligation of States and the Union.  \\n257. Control of the Union over States in certain cases.  20',\n",
       " 'be regarded as matters of procedure only.  \\n CHAPTER II. \\uf0be ADMINISTRATIVE RELATIONS  \\nGeneral  \\n256. Obligation of States and the Union.  \\n257. Control of the Union over States in certain cases.  20 \\n   [257A.  Assistance to States by deployment of armed forces or other \\nforces of the Union. \\uf0beOmitted. ] \\n258. Power of the Union to confer powers, etc., on States in certain \\ncases.  \\n258A.  Power of the States to entrust functions to the Union.   \\n  [259. Armed Forces in States in Part B of the First \\nSchedule. \\uf0beOmitted. ] \\n260. Jurisdiction of the Union in relation to territories outside India.  \\n261. Public acts, records and judicial proceedings.  \\n Disputes relating to Waters  \\n262. Adjudication of disputes relating to waters of  inter -State rivers \\nor river valleys.',\n",
       " '261. Public acts, records and judicial proceedings.  \\n Disputes relating to Waters  \\n262. Adjudication of disputes relating to waters of  inter -State rivers \\nor river valleys.  \\n Co-ordination between States  \\n263. Provisions with respect to an inter -State Council.  \\n PART XII  \\nFINANCE, PROPERTY, CONTRACTS AND SUITS  \\nCHAPTER I. \\uf0beFINANCE  \\nGeneral  \\n264. Interpretation.  \\n265. Taxes not to be imposed save by authority of law.  \\n266. Consolidated Funds and public accounts of India and of the \\nStates.  \\n267. Contingency Fund.  \\n Distribution of Revenues between the Union and the States  \\n268. Duties levied by the Union but collected and appropriated by the \\nStates.  \\n [268A.  Service tax levied by Union and collected by the Union and the \\nStates.\\uf0beOmitted.]',\n",
       " '268. Duties levied by the Union but collected and appropriated by the \\nStates.  \\n [268A.  Service tax levied by Union and collected by the Union and the \\nStates.\\uf0beOmitted.]  \\n269. Taxes levied and collected by the Union but assigned to the \\nStates.  \\n269A.  Levy and collection of goods and services tax in course of inter -\\nState trade or commerce.  \\n270. Taxes levied and  distributed between the Union and the States.  \\n271. Surcharge on certain duties and taxes for purposes of the Union.  \\n[272. Taxes which are levied and collected by the Union and may be 21 \\n distributed between the Union and the States. \\uf0beOmitte d.] \\n273. Grants in lieu of export duty on jute and jute products.  \\n274. Prior recommendation of President required to Bills affecting \\ntaxation in which States are interested.',\n",
       " '273. Grants in lieu of export duty on jute and jute products.  \\n274. Prior recommendation of President required to Bills affecting \\ntaxation in which States are interested.  \\n275. Grants from the Union to certain States.  \\n276. Taxes on professions, trades, callings and employments.  \\n277. Savings.  \\n[278. Agreement with States in Part B of the First Schedule with \\nregard to certain financial matters. \\uf0beOmitted. ] \\n279. Calculation of  “net proceeds”, etc.   \\n279A.  Goods and Services Tax Council.  \\n280. Finance Commission.  \\n281. Recommendations of the Finance Commission.  \\n Miscellaneous Financial Provisions  \\n282. Expenditure defrayable by the Union or a State out of its \\nrevenues.  \\n283. Custody, etc., of Consolidated Funds, Contingency Funds and',\n",
       " 'Miscellaneous Financial Provisions  \\n282. Expenditure defrayable by the Union or a State out of its \\nrevenues.  \\n283. Custody, etc., of Consolidated Funds, Contingency Funds and \\nmoneys credited to the public accounts.  \\n284. Custody of suitors’  deposits and other moneys received by \\npublic servants and courts.  \\n285. Exemption of property of the Union from State taxation.  \\n286. Restrictions as to imposition of tax on the sale or purchase of \\ngoods.  \\n287. Exemption from taxes on electricity.  \\n288. Exemption from taxation by States in respect of water or \\nelectricity in certain cases.  \\n289. Exemption of property and income of a State from Union \\ntaxation.  \\n290. Adjustment in respect of certain expenses and pensions.  \\n290A.  Annual payment to certain Devaswom Funds.',\n",
       " '289. Exemption of property and income of a State from Union \\ntaxation.  \\n290. Adjustment in respect of certain expenses and pensions.  \\n290A.  Annual payment to certain Devaswom Funds.  \\n[291. Privy purse sums of Rulers. \\uf0beOmitted .] 22 \\n  CHAPTER II. \\uf0be BORROWING  \\n292. Borrowing by the Government of India.  \\n293. Borrowing by States.  \\n \\n CHAPTER III. \\uf0be PROPERTY, CONTRACTS, RIGHTS, \\nLIABILITIES, OBLIGATIONS AND SUITS  \\n  294. Succession to property, assets, rights, liabilities and obligations \\nin certain cases.  \\n  295. Succession to property, assets, rights, liabilities and obligations \\nin other cases.  \\n  296. Property accruing by escheat or lapse or as  bona vacantia.  \\n  297. Things of value within territorial waters or continental shelf and',\n",
       " 'in other cases.  \\n  296. Property accruing by escheat or lapse or as  bona vacantia.  \\n  297. Things of value within territorial waters or continental shelf and \\nresources of the exclusive economic zone to vest in the Union.  \\n  298. Power to carry on trade, etc.  \\n  299. Contracts.   \\n  300. Suits and proceedings.  \\n CHAPTER IV. \\uf0be RIGHT  TO PROPERTY  \\n300A.  Persons not to be deprived of property save by authority of law.  \\n  \\nPART XIII  \\nTRADE, COMMERCE AND INTERCOURSE \\nWITHIN THE TERRITORY OF INDIA  \\n301. Freedom of trade, commerce and intercourse.  \\n302. Power of Parliament to impose restrictions on trade, commerce \\nand intercourse.   \\n303. Restrictions on the legislative powers of the Union and of the \\nStates with regard to trade and commerce.',\n",
       " '302. Power of Parliament to impose restrictions on trade, commerce \\nand intercourse.   \\n303. Restrictions on the legislative powers of the Union and of the \\nStates with regard to trade and commerce.  \\n304. Restrictions on trade, commerce and inte rcourse among States.  \\n305. Saving of existing laws and laws providing for State monopolies.  \\n[306. Power  of  certain  States  in  Part B  of  the  First  Schedule to \\nimpose  restrictions  on  trade  and  commerce. \\uf0beOmitted ] \\n307. Appointment of authority for carrying out the purposes of \\narticles 301 to 304.  \\n  23 \\n PART XIV  \\nSERVICES UNDER THE UNION AND THE STATES  \\nCHAPTER I. \\uf0be SERVICES  \\n308. Interpretation.  \\n309. Recruitment and conditions of service of persons serving the \\nUnion or a State.',\n",
       " '23 \\n PART XIV  \\nSERVICES UNDER THE UNION AND THE STATES  \\nCHAPTER I. \\uf0be SERVICES  \\n308. Interpretation.  \\n309. Recruitment and conditions of service of persons serving the \\nUnion or a State.  \\n310. Tenure of office  of persons serving the Union or a State.  \\n311. Dismissal, removal or reduction in rank of persons employed in \\ncivil capacities under the Union or a State.  \\n312. All-India services.  \\n312A.  Power of Parliament to vary or revoke conditions of service of \\nofficers of certain services.  \\n313. Transitional provisions.  \\n[314.  Provision for protection of existing officers of certain services. \\uf0be \\nOmitted. ] \\n CHAPTER II. —PUBLIC SERVICE COMMISSIONS  \\n 315. Public Service Commissions for the Union and for the States.  \\n 316. Appointment and term of office of members.',\n",
       " 'Omitted. ] \\n CHAPTER II. —PUBLIC SERVICE COMMISSIONS  \\n 315. Public Service Commissions for the Union and for the States.  \\n 316. Appointment and term of office of members.  \\n 317. Removal and suspension of a member of a Public Service \\nCommission.  \\n 318. Power to make regulations as to conditions of service of \\nmembers and staff of the Commission.  \\n 319. Prohibition as to the holding of offices by members of \\nCommission on ceasing to be such members.  \\n 320. Functions of Public Service Commissions.  \\n 321. Power to extend functions of Public Service Commissions.  \\n 322. Expenses of Public Service Commissions.  \\n 323. Reports of Public Service Commissions.  \\n  24 \\n PART XIVA  \\nTRIBUNALS  \\n323A.  Administrative tribunals.  \\n323B.  Tribunals for other matters.   \\n PART XV  \\nELECTIONS']"
      ]
     },
     "execution_count": 15,
     "metadata": {},
     "output_type": "execute_result"
    }
   ],
   "source": [
    "texts[:50]"
   ]
  },
  {
   "cell_type": "markdown",
   "metadata": {},
   "source": [
    "## Load the dataset into the vector space "
   ]
  },
  {
   "cell_type": "code",
   "execution_count": 18,
   "metadata": {},
   "outputs": [
    {
     "name": "stdout",
     "output_type": "stream",
     "text": [
      "Inserted 1444 headline.\n"
     ]
    }
   ],
   "source": [
    "astra_vector_store.add_texts(texts)\n",
    "print(\"Inserted %i headline.\" % len(texts))\n",
    "\n",
    "astra_vector_index = VectorStoreIndexWrapper(vectorstore=astra_vector_store)"
   ]
  },
  {
   "cell_type": "markdown",
   "metadata": {},
   "source": [
    "## Run the QA cycle"
   ]
  },
  {
   "cell_type": "code",
   "execution_count": 19,
   "metadata": {},
   "outputs": [
    {
     "name": "stdout",
     "output_type": "stream",
     "text": [
      "\n",
      " QUESTION: \"Tell me about the fundamental rights\"\n",
      "ANSWER : \"The fundamental rights are a set of rights granted to all citizens of India by the Constitution. These rights protect individuals from any unfair treatment or discrimination by the government or other authorities. The fundamental rights include the right to equality, right to freedom, right against exploitation, and right to freedom of religion. They also include cultural and educational rights, such as the right to establish and administer educational institutions. These rights are enforceable by law and any law that goes against them is considered void.\"\n",
      "\n",
      "FIRST DOCUMNETS BY RELEVANCE:\n",
      "     [0.9251]\"13. Laws inconsistent with or in derogation of the fundamental \n",
      "rights.  \n",
      " Right to ...\"\n",
      "     [0.9251]\"13. Laws inconsistent with or in derogation of the fundamental \n",
      "rights.  \n",
      " Right to ...\"\n",
      "     [0.9215]\"termination of citizenship and all other matters relating to citizenship.  \n",
      " 37 \n",
      " PA...\"\n",
      "     [0.9179]\"Right against Exploitation  \n",
      " \n",
      "23. Prohibition of traffic in human beings and forced...\"\n",
      "\n",
      " QUESTION: \"Is right to have a lawyer a fundamental right?\"\n",
      "ANSWER : \"Yes, the right to consult and be defended by a legal practitioner of one's choice is a fundamental right under the Indian Constitution. This is stated in Article 22(1) which guarantees the right to legal representation for any person who is arrested and detained in custody.\"\n",
      "\n",
      "FIRST DOCUMNETS BY RELEVANCE:\n",
      "     [0.9086]\"13. Laws inconsistent with or in derogation of the fundamental \n",
      "rights.  \n",
      " Right to ...\"\n",
      "     [0.9085]\"13. Laws inconsistent with or in derogation of the fundamental \n",
      "rights.  \n",
      " Right to ...\"\n",
      "     [0.9034]\"more than once.  \n",
      "(3) No person accused of any offence shall be compelled to be a wi...\"\n",
      "     [0.9015]\"soon as may be, of the grounds for such arrest nor shall he be denied the right \n",
      "to ...\"\n"
     ]
    }
   ],
   "source": [
    "first_question = True\n",
    "while True:\n",
    "    if first_question:\n",
    "        query_text = input(\"\\n Enter your Question(or type 'quit' to 'exit'): \").strip()\n",
    "    else:\n",
    "        query_text = input(\"\\n Whta's your next Question(or type 'quit' to 'exit'): \").strip()\n",
    "\n",
    "    if query_text.lower() == \"quit\":\n",
    "        break\n",
    "\n",
    "    if query_text == \"\":\n",
    "        continue\n",
    "\n",
    "    print(\"\\n QUESTION: \\\"%s\\\"\" % query_text)\n",
    "\n",
    "    answer = astra_vector_index.query(query_text, llm=llm).strip()\n",
    "    print(\"ANSWER : \\\"%s\\\"\\n\" % answer)\n",
    "\n",
    "    print(\"FIRST DOCUMNETS BY RELEVANCE:\")\n",
    "    for doc , score in astra_vector_store.similarity_search_with_score(query_text, k=4):\n",
    "        print(\"     [%0.4f]\\\"%s...\\\"\" % (score, doc.page_content[:84]))"
   ]
  }
 ],
 "metadata": {
  "kernelspec": {
   "display_name": "Python 3",
   "language": "python",
   "name": "python3"
  },
  "language_info": {
   "codemirror_mode": {
    "name": "ipython",
    "version": 3
   },
   "file_extension": ".py",
   "mimetype": "text/x-python",
   "name": "python",
   "nbconvert_exporter": "python",
   "pygments_lexer": "ipython3",
   "version": "3.11.9"
  }
 },
 "nbformat": 4,
 "nbformat_minor": 2
}
